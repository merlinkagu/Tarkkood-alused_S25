{
  "cells": [
    {
      "cell_type": "markdown",
      "metadata": {
        "id": "view-in-github",
        "colab_type": "text"
      },
      "source": [
        "<a href=\"https://colab.research.google.com/github/merlinkagu/Tarkkood-alused_S25/blob/main/Matplotlib.ipynb\" target=\"_parent\"><img src=\"https://colab.research.google.com/assets/colab-badge.svg\" alt=\"Open In Colab\"/></a>"
      ]
    },
    {
      "cell_type": "markdown",
      "id": "c664bfae",
      "metadata": {
        "id": "c664bfae"
      },
      "source": [
        "# Andmete visualiseerimine Matplotlibiga\n",
        "\n",
        "Selles peatükis õpid, kuidas visualiseerida andmeid Pythonis, kasutades matplotlib-i ja pandas DataFrame'i. Näidetes kasutatakse islander_data andmestikku, mis on juba Pandasega sisse loetud. Visualiseerimine aitab andmetest mustreid ja seoseid paremini mõista."
      ]
    },
    {
      "cell_type": "markdown",
      "id": "dc581860",
      "metadata": {
        "id": "dc581860"
      },
      "source": [
        "## Scatterplot (punktdiagramm)\n",
        "Scatterplot ehk punktdiagramm näitab kahe tunnuse omavahelist seost. Näiteks saab visualiseerida vanuse ja mälu skoori seost."
      ]
    },
    {
      "cell_type": "code",
      "execution_count": 1,
      "id": "654d68d9",
      "metadata": {
        "id": "654d68d9",
        "outputId": "d467a000-61b1-4e27-bf76-2de17a122c73",
        "colab": {
          "base_uri": "https://localhost:8080/",
          "height": 356
        }
      },
      "outputs": [
        {
          "output_type": "error",
          "ename": "FileNotFoundError",
          "evalue": "[Errno 2] No such file or directory: '../../data/Islander_data.csv'",
          "traceback": [
            "\u001b[0;31m---------------------------------------------------------------------------\u001b[0m",
            "\u001b[0;31mFileNotFoundError\u001b[0m                         Traceback (most recent call last)",
            "\u001b[0;32m/tmp/ipython-input-4270250245.py\u001b[0m in \u001b[0;36m<cell line: 0>\u001b[0;34m()\u001b[0m\n\u001b[1;32m      3\u001b[0m \u001b[0;34m\u001b[0m\u001b[0m\n\u001b[1;32m      4\u001b[0m \u001b[0;31m# Andmestiku lugemine\u001b[0m\u001b[0;34m\u001b[0m\u001b[0;34m\u001b[0m\u001b[0m\n\u001b[0;32m----> 5\u001b[0;31m \u001b[0mdf\u001b[0m \u001b[0;34m=\u001b[0m \u001b[0mpd\u001b[0m\u001b[0;34m.\u001b[0m\u001b[0mread_csv\u001b[0m\u001b[0;34m(\u001b[0m\u001b[0;34m'../../data/Islander_data.csv'\u001b[0m\u001b[0;34m)\u001b[0m\u001b[0;34m\u001b[0m\u001b[0;34m\u001b[0m\u001b[0m\n\u001b[0m\u001b[1;32m      6\u001b[0m \u001b[0;34m\u001b[0m\u001b[0m\n\u001b[1;32m      7\u001b[0m \u001b[0;31m# Scatterplot: vanus vs mälu skoor\u001b[0m\u001b[0;34m\u001b[0m\u001b[0;34m\u001b[0m\u001b[0m\n",
            "\u001b[0;32m/usr/local/lib/python3.12/dist-packages/pandas/io/parsers/readers.py\u001b[0m in \u001b[0;36mread_csv\u001b[0;34m(filepath_or_buffer, sep, delimiter, header, names, index_col, usecols, dtype, engine, converters, true_values, false_values, skipinitialspace, skiprows, skipfooter, nrows, na_values, keep_default_na, na_filter, verbose, skip_blank_lines, parse_dates, infer_datetime_format, keep_date_col, date_parser, date_format, dayfirst, cache_dates, iterator, chunksize, compression, thousands, decimal, lineterminator, quotechar, quoting, doublequote, escapechar, comment, encoding, encoding_errors, dialect, on_bad_lines, delim_whitespace, low_memory, memory_map, float_precision, storage_options, dtype_backend)\u001b[0m\n\u001b[1;32m   1024\u001b[0m     \u001b[0mkwds\u001b[0m\u001b[0;34m.\u001b[0m\u001b[0mupdate\u001b[0m\u001b[0;34m(\u001b[0m\u001b[0mkwds_defaults\u001b[0m\u001b[0;34m)\u001b[0m\u001b[0;34m\u001b[0m\u001b[0;34m\u001b[0m\u001b[0m\n\u001b[1;32m   1025\u001b[0m \u001b[0;34m\u001b[0m\u001b[0m\n\u001b[0;32m-> 1026\u001b[0;31m     \u001b[0;32mreturn\u001b[0m \u001b[0m_read\u001b[0m\u001b[0;34m(\u001b[0m\u001b[0mfilepath_or_buffer\u001b[0m\u001b[0;34m,\u001b[0m \u001b[0mkwds\u001b[0m\u001b[0;34m)\u001b[0m\u001b[0;34m\u001b[0m\u001b[0;34m\u001b[0m\u001b[0m\n\u001b[0m\u001b[1;32m   1027\u001b[0m \u001b[0;34m\u001b[0m\u001b[0m\n\u001b[1;32m   1028\u001b[0m \u001b[0;34m\u001b[0m\u001b[0m\n",
            "\u001b[0;32m/usr/local/lib/python3.12/dist-packages/pandas/io/parsers/readers.py\u001b[0m in \u001b[0;36m_read\u001b[0;34m(filepath_or_buffer, kwds)\u001b[0m\n\u001b[1;32m    618\u001b[0m \u001b[0;34m\u001b[0m\u001b[0m\n\u001b[1;32m    619\u001b[0m     \u001b[0;31m# Create the parser.\u001b[0m\u001b[0;34m\u001b[0m\u001b[0;34m\u001b[0m\u001b[0m\n\u001b[0;32m--> 620\u001b[0;31m     \u001b[0mparser\u001b[0m \u001b[0;34m=\u001b[0m \u001b[0mTextFileReader\u001b[0m\u001b[0;34m(\u001b[0m\u001b[0mfilepath_or_buffer\u001b[0m\u001b[0;34m,\u001b[0m \u001b[0;34m**\u001b[0m\u001b[0mkwds\u001b[0m\u001b[0;34m)\u001b[0m\u001b[0;34m\u001b[0m\u001b[0;34m\u001b[0m\u001b[0m\n\u001b[0m\u001b[1;32m    621\u001b[0m \u001b[0;34m\u001b[0m\u001b[0m\n\u001b[1;32m    622\u001b[0m     \u001b[0;32mif\u001b[0m \u001b[0mchunksize\u001b[0m \u001b[0;32mor\u001b[0m \u001b[0miterator\u001b[0m\u001b[0;34m:\u001b[0m\u001b[0;34m\u001b[0m\u001b[0;34m\u001b[0m\u001b[0m\n",
            "\u001b[0;32m/usr/local/lib/python3.12/dist-packages/pandas/io/parsers/readers.py\u001b[0m in \u001b[0;36m__init__\u001b[0;34m(self, f, engine, **kwds)\u001b[0m\n\u001b[1;32m   1618\u001b[0m \u001b[0;34m\u001b[0m\u001b[0m\n\u001b[1;32m   1619\u001b[0m         \u001b[0mself\u001b[0m\u001b[0;34m.\u001b[0m\u001b[0mhandles\u001b[0m\u001b[0;34m:\u001b[0m \u001b[0mIOHandles\u001b[0m \u001b[0;34m|\u001b[0m \u001b[0;32mNone\u001b[0m \u001b[0;34m=\u001b[0m \u001b[0;32mNone\u001b[0m\u001b[0;34m\u001b[0m\u001b[0;34m\u001b[0m\u001b[0m\n\u001b[0;32m-> 1620\u001b[0;31m         \u001b[0mself\u001b[0m\u001b[0;34m.\u001b[0m\u001b[0m_engine\u001b[0m \u001b[0;34m=\u001b[0m \u001b[0mself\u001b[0m\u001b[0;34m.\u001b[0m\u001b[0m_make_engine\u001b[0m\u001b[0;34m(\u001b[0m\u001b[0mf\u001b[0m\u001b[0;34m,\u001b[0m \u001b[0mself\u001b[0m\u001b[0;34m.\u001b[0m\u001b[0mengine\u001b[0m\u001b[0;34m)\u001b[0m\u001b[0;34m\u001b[0m\u001b[0;34m\u001b[0m\u001b[0m\n\u001b[0m\u001b[1;32m   1621\u001b[0m \u001b[0;34m\u001b[0m\u001b[0m\n\u001b[1;32m   1622\u001b[0m     \u001b[0;32mdef\u001b[0m \u001b[0mclose\u001b[0m\u001b[0;34m(\u001b[0m\u001b[0mself\u001b[0m\u001b[0;34m)\u001b[0m \u001b[0;34m->\u001b[0m \u001b[0;32mNone\u001b[0m\u001b[0;34m:\u001b[0m\u001b[0;34m\u001b[0m\u001b[0;34m\u001b[0m\u001b[0m\n",
            "\u001b[0;32m/usr/local/lib/python3.12/dist-packages/pandas/io/parsers/readers.py\u001b[0m in \u001b[0;36m_make_engine\u001b[0;34m(self, f, engine)\u001b[0m\n\u001b[1;32m   1878\u001b[0m                 \u001b[0;32mif\u001b[0m \u001b[0;34m\"b\"\u001b[0m \u001b[0;32mnot\u001b[0m \u001b[0;32min\u001b[0m \u001b[0mmode\u001b[0m\u001b[0;34m:\u001b[0m\u001b[0;34m\u001b[0m\u001b[0;34m\u001b[0m\u001b[0m\n\u001b[1;32m   1879\u001b[0m                     \u001b[0mmode\u001b[0m \u001b[0;34m+=\u001b[0m \u001b[0;34m\"b\"\u001b[0m\u001b[0;34m\u001b[0m\u001b[0;34m\u001b[0m\u001b[0m\n\u001b[0;32m-> 1880\u001b[0;31m             self.handles = get_handle(\n\u001b[0m\u001b[1;32m   1881\u001b[0m                 \u001b[0mf\u001b[0m\u001b[0;34m,\u001b[0m\u001b[0;34m\u001b[0m\u001b[0;34m\u001b[0m\u001b[0m\n\u001b[1;32m   1882\u001b[0m                 \u001b[0mmode\u001b[0m\u001b[0;34m,\u001b[0m\u001b[0;34m\u001b[0m\u001b[0;34m\u001b[0m\u001b[0m\n",
            "\u001b[0;32m/usr/local/lib/python3.12/dist-packages/pandas/io/common.py\u001b[0m in \u001b[0;36mget_handle\u001b[0;34m(path_or_buf, mode, encoding, compression, memory_map, is_text, errors, storage_options)\u001b[0m\n\u001b[1;32m    871\u001b[0m         \u001b[0;32mif\u001b[0m \u001b[0mioargs\u001b[0m\u001b[0;34m.\u001b[0m\u001b[0mencoding\u001b[0m \u001b[0;32mand\u001b[0m \u001b[0;34m\"b\"\u001b[0m \u001b[0;32mnot\u001b[0m \u001b[0;32min\u001b[0m \u001b[0mioargs\u001b[0m\u001b[0;34m.\u001b[0m\u001b[0mmode\u001b[0m\u001b[0;34m:\u001b[0m\u001b[0;34m\u001b[0m\u001b[0;34m\u001b[0m\u001b[0m\n\u001b[1;32m    872\u001b[0m             \u001b[0;31m# Encoding\u001b[0m\u001b[0;34m\u001b[0m\u001b[0;34m\u001b[0m\u001b[0m\n\u001b[0;32m--> 873\u001b[0;31m             handle = open(\n\u001b[0m\u001b[1;32m    874\u001b[0m                 \u001b[0mhandle\u001b[0m\u001b[0;34m,\u001b[0m\u001b[0;34m\u001b[0m\u001b[0;34m\u001b[0m\u001b[0m\n\u001b[1;32m    875\u001b[0m                 \u001b[0mioargs\u001b[0m\u001b[0;34m.\u001b[0m\u001b[0mmode\u001b[0m\u001b[0;34m,\u001b[0m\u001b[0;34m\u001b[0m\u001b[0;34m\u001b[0m\u001b[0m\n",
            "\u001b[0;31mFileNotFoundError\u001b[0m: [Errno 2] No such file or directory: '../../data/Islander_data.csv'"
          ]
        }
      ],
      "source": [
        "import matplotlib.pyplot as plt\n",
        "import pandas as pd\n",
        "\n",
        "# Andmestiku lugemine\n",
        "df = pd.read_csv('../../data/Islander_data.csv')\n",
        "\n",
        "# Scatterplot: vanus vs mälu skoor\n",
        "plt.figure(figsize=(8,5))\n",
        "# c - color, s - size\n",
        "plt.scatter(df['age'], df['Diff'], c=df['Drug'].astype('category').cat.codes, s=df['Dosage']*10, alpha=0.5)\n",
        "plt.xlabel('Vanus')\n",
        "plt.ylabel('Mälu skoor')\n",
        "plt.title('Vanuse ja mälu skoori seos')\n",
        "plt.legend(title='Ravim', labels=df['Drug'].unique())\n",
        "plt.show()"
      ]
    },
    {
      "cell_type": "markdown",
      "id": "437c3379",
      "metadata": {
        "id": "437c3379"
      },
      "source": [
        "**Süntaksi selgitus:**\n",
        "- `plt.scatter(x, y)`: joonistab punktdiagrammi, kus x ja y on Pandase veerud\n",
        "- `plt.xlabel()`, `plt.ylabel()`: telgede nimed\n",
        "- `plt.title()`: diagrammi pealkiri\n",
        "- `plt.show()`: näitab diagrammi notebookis"
      ]
    },
    {
      "cell_type": "markdown",
      "id": "0ab38727",
      "metadata": {
        "id": "0ab38727"
      },
      "source": [
        "## Bar plot (tulpdiagramm)\n",
        "Bar plot ehk tulpdiagramm sobib kategooriate võrdlemiseks, näiteks ravimite keskmise mälu skoori võrdlus."
      ]
    },
    {
      "cell_type": "code",
      "execution_count": null,
      "id": "184ad8d3",
      "metadata": {
        "id": "184ad8d3"
      },
      "outputs": [],
      "source": [
        "# Ravimite kaupa keskmise mälu skoori tulpdiagramm\n",
        "mean_scores = df.groupby('Drug')['Diff'].mean()\n",
        "plt.figure(figsize=(7,4))\n",
        "mean_scores.plot(kind='bar', color='skyblue')\n",
        "plt.xlabel('Ravim')\n",
        "plt.ylabel('Keskmine mälu skoor')\n",
        "plt.title('Ravimite kaupa keskmine mälu skoor')\n",
        "plt.show()"
      ]
    },
    {
      "cell_type": "markdown",
      "id": "b2c68566",
      "metadata": {
        "id": "b2c68566"
      },
      "source": [
        "## Boxplot (kastdiagramm)\n",
        "Boxplot näitab tunnuse jaotust ja äärmusi, näiteks vanuse jaotust erinevate ravimite lõikes."
      ]
    },
    {
      "cell_type": "code",
      "execution_count": null,
      "id": "acad3fec",
      "metadata": {
        "id": "acad3fec"
      },
      "outputs": [],
      "source": [
        "# Vanuse jaotus ravimite lõikes\n",
        "plt.figure(figsize=(7,4))\n",
        "df.boxplot(column='age', by='Drug')\n",
        "plt.xlabel('Ravim')\n",
        "plt.ylabel('Vanus')\n",
        "plt.title('Vanuse jaotus ravimite lõikes')\n",
        "plt.suptitle('')\n",
        "plt.show()"
      ]
    },
    {
      "cell_type": "markdown",
      "id": "59e6e703",
      "metadata": {
        "id": "59e6e703"
      },
      "source": [
        "## Linegraph (joongraafik)\n",
        "Linegraph sobib trendide ja muutuste visualiseerimiseks, näiteks keskmise mälu skoori muutus vanuse kasvades."
      ]
    },
    {
      "cell_type": "code",
      "execution_count": null,
      "id": "fed935e3",
      "metadata": {
        "id": "fed935e3"
      },
      "outputs": [],
      "source": [
        "# Keskmine mälu skoor vanuse kaupa\n",
        "age_means = df.groupby('age')['Diff'].mean()\n",
        "plt.figure(figsize=(8,5))\n",
        "plt.plot(age_means.index, age_means.values, marker='o')\n",
        "plt.xlabel('Vanus')\n",
        "plt.ylabel('Keskmine mälu skoor')\n",
        "plt.title('Keskmise mälu skoori muutus vanuse kasvades')\n",
        "plt.show()"
      ]
    },
    {
      "cell_type": "markdown",
      "id": "02bc9762",
      "metadata": {
        "id": "02bc9762"
      },
      "source": [
        "**Süntaksi selgitused:**\n",
        "- `plot(kind='bar')`: Pandase meetod tulpdiagrammi jaoks\n",
        "- `boxplot(column, by)`: Pandase meetod kastdiagrammi jaoks\n",
        "- `plt.plot()`: Matplotlibi joongraafik\n",
        "- Telgede ja pealkirjade lisamine aitab diagrammi mõista"
      ]
    },
    {
      "cell_type": "markdown",
      "id": "b513145d",
      "metadata": {
        "id": "b513145d"
      },
      "source": [
        "## Boxplot: 'diff' väärtus ravimite ja dooside kaupa\n",
        "See boxplot näitab, kuidas mälu skoor ('diff') jaotub erinevate ravimite ja dooside lõikes."
      ]
    },
    {
      "cell_type": "code",
      "execution_count": null,
      "id": "02b37df2",
      "metadata": {
        "id": "02b37df2"
      },
      "outputs": [],
      "source": [
        "# Loome uue veeru, mis ühendab ravimi ja doosi\n",
        "df['Drug_Dosage'] = df['Drug'] + ' (' + df['Dosage'].astype(str) + ')'\n",
        "plt.figure(figsize=(10,5))\n",
        "df.boxplot(column='Diff', by='Drug_Dosage', grid=False, rot=45)\n",
        "plt.xlabel('Ravim ja doos')\n",
        "plt.ylabel('Mälu skoor (diff)')\n",
        "plt.title(\"'Diff' väärtus ravimite ja dooside kaupa\")\n",
        "plt.suptitle('')\n",
        "plt.show()"
      ]
    },
    {
      "cell_type": "markdown",
      "id": "86ea3ada",
      "metadata": {
        "id": "86ea3ada"
      },
      "source": [
        "## Mis edasi?\n",
        "Kui soovid Matplotlibi kohta rohkem teada saada, vaata ametlikku dokumentatsiooni ja tutvustusi:\n",
        "\n",
        "- [Matplotlib dokumentatsioon ja näited](https://matplotlib.org/stable/)\n",
        "- [Python Graph Gallery](https://python-graph-gallery.com/)\n",
        "- [Data to Viz](https://www.data-to-viz.com/)"
      ]
    },
    {
      "cell_type": "markdown",
      "id": "c069e7ab",
      "metadata": {
        "id": "c069e7ab"
      },
      "source": [
        "## Praktiline ülesanne: visualiseeri islander_data andmestikku\n",
        "\n",
        "Vali islander_data andmestikust kaks või enam tunnust ja loo üks selge, informatiivne visualiseering (scatterplot, barplot, boxplot või linegraph). Mõtle, millist seost või mustrit soovid näidata. Kujunda pilt nii, et oleks selged teljed, pealkiri, vajadusel legend ja värvid.\n",
        "Näiteks:\n",
        "- kuidas mälu skoor sõltub vanusest või ravimist.\n",
        "- kuidas annus mõjutab mälu skoori erinevates vanusegruppides (võimalik, et pead tulba uuesti looma). Tee igele ravimile eraldi plot või kasuta subplotte (vaata [Matplotlib subplot](https://matplotlib.org/stable/api/_as_gen/matplotlib.pyplot.subplots.html) juhendit).\n",
        "\n",
        "**Juhised:**\n",
        "- Vali sobivad tunnused (veerud) visualiseerimiseks\n",
        "- Lisa telgede nimed ja pealkiri\n",
        "- Kasuta värve või suurusi, et tuua esile erinevusi\n",
        "- Lisa legend, kui graafikul on mitu gruppi\n",
        "- Selgita lühidalt, mida graafik näitab"
      ]
    },
    {
      "cell_type": "code",
      "execution_count": null,
      "id": "2c29b56f",
      "metadata": {
        "id": "2c29b56f"
      },
      "outputs": [],
      "source": [
        "# Kirjuta siia oma visualiseeringu kood\n",
        "# Näiteks: plt.scatter(...), plt.bar(...), df.boxplot(...), plt.plot(...)\n",
        "# Lisa ka lühike selgitus, mida graafik näitab"
      ]
    }
  ],
  "metadata": {
    "kernelspec": {
      "display_name": "Python 3",
      "language": "python",
      "name": "python3"
    },
    "language_info": {
      "codemirror_mode": {
        "name": "ipython",
        "version": 3
      },
      "file_extension": ".py",
      "mimetype": "text/x-python",
      "name": "python",
      "nbconvert_exporter": "python",
      "pygments_lexer": "ipython3",
      "version": "3.12.1"
    },
    "colab": {
      "provenance": [],
      "include_colab_link": true
    }
  },
  "nbformat": 4,
  "nbformat_minor": 5
}